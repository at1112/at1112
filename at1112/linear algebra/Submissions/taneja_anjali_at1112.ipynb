{
 "cells": [
  {
   "cell_type": "markdown",
   "metadata": {},
   "source": [
    "Anjali's Submission"
   ]
  },
  {
   "cell_type": "markdown",
   "metadata": {},
   "source": [
    "# Task 1:"
   ]
  },
  {
   "cell_type": "code",
   "execution_count": 235,
   "metadata": {},
   "outputs": [],
   "source": [
    "def transpose(matrix): \n",
    "    '''\n",
    "    Transposes a matrix\n",
    "\n",
    "    '''\n",
    "    ##for row in matrix :   (ignore these - not using because didn't return list of lists)\n",
    "       ## print(row)\n",
    "        \n",
    "    matrix_transposed = [[matrix[j][i] for j in range(len(matrix))] for i in range(len(matrix[0]))] \n",
    "    return(matrix_transposed)\n",
    "    \n",
    "\n",
    "    #print(\"\\n\")\n",
    "    #for row in matrix_transposed:\n",
    "        #print(row)"
   ]
  },
  {
   "cell_type": "code",
   "execution_count": 192,
   "metadata": {},
   "outputs": [],
   "source": [
    "B = [[-1,0,2],\n",
    "     [2,1,0],\n",
    "     [8,3,2],\n",
    "     [1,0,2]]"
   ]
  },
  {
   "cell_type": "code",
   "execution_count": 236,
   "metadata": {},
   "outputs": [
    {
     "data": {
      "text/plain": [
       "[[-1, 2, 8, 1], [0, 1, 3, 0], [2, 0, 2, 2]]"
      ]
     },
     "execution_count": 236,
     "metadata": {},
     "output_type": "execute_result"
    }
   ],
   "source": [
    "transpose(B)"
   ]
  },
  {
   "cell_type": "markdown",
   "metadata": {},
   "source": [
    "# Task 2:"
   ]
  },
  {
   "cell_type": "code",
   "execution_count": 261,
   "metadata": {},
   "outputs": [],
   "source": [
    "def dot_product(X, Y): ##\n",
    "    '''\n",
    "    Calculates dot product of 2 matricies\n",
    "\n",
    "    '''\n",
    "    \n",
    "    if len(X[0]) != len(Y): ##make sure number of columns is equal to number of rows in \"matrix\"\n",
    "        print(\"Incorrect Inputs: Check Matrix Dimensions\") #otherwise print this\n",
    "        return\n",
    "    \n",
    "    else:\n",
    "        result = [] ##initialize empty matrix\n",
    "    for i in range(len(X)): ##iterate through rows of first matrix\n",
    "        prelim = []\n",
    "        for j in range(len(Y[0])): ##iterate through columns of second matrix\n",
    "            \n",
    "               a = sum([X[i][k]*Y[k][j] for k in range(len(A[0]))]) ##calculate dot product\n",
    "               prelim.append(a)\n",
    "                \n",
    "        result.append(prelim)\n",
    "                \n",
    "    return result"
   ]
  },
  {
   "cell_type": "code",
   "execution_count": 258,
   "metadata": {},
   "outputs": [],
   "source": [
    "A = [[1,3,4],\n",
    "     [0,-1,2],\n",
    "     [2,4,8]]\n",
    "\n",
    "B = [[-1,0,2],\n",
    "     [2,1,0],\n",
    "     [8,3,2],\n",
    "     [1,0,2]]"
   ]
  },
  {
   "cell_type": "code",
   "execution_count": 259,
   "metadata": {},
   "outputs": [
    {
     "name": "stdout",
     "output_type": "stream",
     "text": [
      "Incorrect Inputs: Check Matrix Dimensions\n"
     ]
    }
   ],
   "source": [
    "dot_product(A,B)"
   ]
  },
  {
   "cell_type": "code",
   "execution_count": 260,
   "metadata": {},
   "outputs": [
    {
     "data": {
      "text/plain": [
       "[[3, 5, 12], [2, 5, 10], [12, 29, 54], [5, 11, 20]]"
      ]
     },
     "execution_count": 260,
     "metadata": {},
     "output_type": "execute_result"
    }
   ],
   "source": [
    "dot_product(B,A)"
   ]
  },
  {
   "cell_type": "markdown",
   "metadata": {},
   "source": [
    "# Task 3:"
   ]
  },
  {
   "cell_type": "code",
   "execution_count": 198,
   "metadata": {},
   "outputs": [],
   "source": [
    "A = [[1,3],\n",
    "     [0,-1],\n",
    "     [2,4]]"
   ]
  },
  {
   "cell_type": "code",
   "execution_count": 255,
   "metadata": {},
   "outputs": [],
   "source": [
    "def invert(m):\n",
    "    '''\n",
    "    inverts inputted matrix\n",
    "    '''\n",
    "\n",
    "    new_matrix = dot_product(transpose(m), m) ##define a matrix that is the dot product of inputted matrix and transposed matrix\n",
    "   \n",
    "    a = new_matrix[0][0] ##part of det calculation\n",
    "    b = new_matrix[0][1]\n",
    "    c = new_matrix[1][0]\n",
    "    d = new_matrix[1][1]\n",
    "    \n",
    "    calc = a*d-b*c\n",
    "    \n",
    "    if (calc != 0):\n",
    "        determinant = 1/(calc) ##calculates determinant\n",
    "        new_matrix = [[determinant*d, determinant*(-b)], [determinant*(-c), determinant*a]] #define inverse of matrix\n",
    "    else:\n",
    "        print(\"Determinant is 0\")\n",
    "    \n",
    "    return new_matrix\n",
    "    "
   ]
  },
  {
   "cell_type": "code",
   "execution_count": 262,
   "metadata": {},
   "outputs": [
    {
     "data": {
      "text/plain": [
       "[[2.888888888888889, -1.222222222222222],\n",
       " [-1.222222222222222, 0.5555555555555556]]"
      ]
     },
     "execution_count": 262,
     "metadata": {},
     "output_type": "execute_result"
    }
   ],
   "source": [
    "invert(A)"
   ]
  },
  {
   "cell_type": "code",
   "execution_count": null,
   "metadata": {},
   "outputs": [],
   "source": []
  }
 ],
 "metadata": {
  "kernelspec": {
   "display_name": "Python 3",
   "language": "python",
   "name": "python3"
  },
  "language_info": {
   "codemirror_mode": {
    "name": "ipython",
    "version": 3
   },
   "file_extension": ".py",
   "mimetype": "text/x-python",
   "name": "python",
   "nbconvert_exporter": "python",
   "pygments_lexer": "ipython3",
   "version": "3.7.3"
  }
 },
 "nbformat": 4,
 "nbformat_minor": 2
}
